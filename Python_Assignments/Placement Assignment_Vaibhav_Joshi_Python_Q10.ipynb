{
 "cells": [
  {
   "cell_type": "markdown",
   "id": "362125e7",
   "metadata": {},
   "source": [
    "Question 10 -\n",
    "\n",
    "Write a program to count the number of verbs, nouns, pronouns, and adjectives in a given particular phrase or\n",
    "paragraph, and return their respective count as a dictionary.\n",
    "\n",
    "Note -\n",
    "1. Write code comments wherever required for code\n",
    "2. You have to write at least 2 additional test cases in which your program will run successfully and provide\n",
    "an explanation for the same.\n"
   ]
  },
  {
   "cell_type": "code",
   "execution_count": 1,
   "id": "80fd67ae",
   "metadata": {},
   "outputs": [],
   "source": [
    "import spacy"
   ]
  },
  {
   "cell_type": "code",
   "execution_count": 7,
   "id": "99c625f5",
   "metadata": {},
   "outputs": [],
   "source": [
    "def count_pos(text):\n",
    "    # Load the English language model\n",
    "    nlp = spacy.load('en_core_web_sm')\n",
    "\n",
    "    # Process the text with the language model\n",
    "    doc = nlp(text)\n",
    "\n",
    "    # Initialize counters for each part of speech\n",
    "    verb_count = 0\n",
    "    noun_count = 0\n",
    "    pronoun_count = 0\n",
    "    adjective_count = 0\n",
    "\n",
    "    # Iterate over each token in the processed text\n",
    "    for token in doc:\n",
    "        # Check the part of speech tag of the token\n",
    "        if token.pos_ == 'VERB':\n",
    "            verb_count += 1\n",
    "        elif token.pos_ == 'NOUN':\n",
    "            noun_count += 1\n",
    "        elif token.pos_ == 'PRON':\n",
    "            pronoun_count += 1\n",
    "        elif token.pos_ == 'ADJ':\n",
    "            adjective_count += 1\n",
    "\n",
    "    # Create a dictionary with the counts\n",
    "    counts = {\n",
    "        'verbs': verb_count,\n",
    "        'pronouns': pronoun_count,\n",
    "        'nouns': noun_count,\n",
    "        'adjectives': adjective_count\n",
    "    }\n",
    "\n",
    "    return counts"
   ]
  },
  {
   "cell_type": "code",
   "execution_count": 8,
   "id": "8cee052c",
   "metadata": {},
   "outputs": [
    {
     "name": "stdout",
     "output_type": "stream",
     "text": [
      "Counts for Test Case 1:\n",
      "{'verbs': 1, 'pronouns': 0, 'nouns': 2, 'adjectives': 0}\n"
     ]
    }
   ],
   "source": [
    "# Test case 1\n",
    "text1 = \"The cat jumps over the fence.\"\n",
    "result1 = count_pos(text1)\n",
    "print(\"Counts for Test Case 1:\")\n",
    "print(result1)"
   ]
  },
  {
   "cell_type": "code",
   "execution_count": 14,
   "id": "a69d6c0d",
   "metadata": {},
   "outputs": [
    {
     "name": "stdout",
     "output_type": "stream",
     "text": [
      "Counts for Test Case 2:\n",
      "{'verbs': 2, 'pronouns': 1, 'nouns': 1, 'adjectives': 1}\n"
     ]
    }
   ],
   "source": [
    "# Test case 2\n",
    "text2 = \"I love eating delicious pizza.\"\n",
    "result2 = count_pos(text2)\n",
    "print(\"Counts for Test Case 2:\")\n",
    "print(result2)"
   ]
  },
  {
   "cell_type": "code",
   "execution_count": 15,
   "id": "ec5c742f",
   "metadata": {},
   "outputs": [
    {
     "name": "stdout",
     "output_type": "stream",
     "text": [
      "Counts for Test Case 3:\n",
      "{'verbs': 1, 'pronouns': 0, 'nouns': 3, 'adjectives': 0}\n"
     ]
    }
   ],
   "source": [
    "# Test case 3\n",
    "text3 = \"The train leaves every morning at 18 AM.\"\n",
    "result2 = count_pos(text3)\n",
    "print(\"Counts for Test Case 3:\")\n",
    "print(result2)"
   ]
  },
  {
   "cell_type": "code",
   "execution_count": 16,
   "id": "d1427a9d",
   "metadata": {},
   "outputs": [
    {
     "name": "stdout",
     "output_type": "stream",
     "text": [
      "Counts for Test Case 4:\n",
      "{'verbs': 10, 'pronouns': 11, 'nouns': 22, 'adjectives': 9}\n"
     ]
    }
   ],
   "source": [
    "# Test case 4\n",
    "text4 = \"On offering to help the blind man, the man who then stole his car, had not, at that precise moment, had any evil intention, quite the contrary, what he did was nothing more than obey those feelings of generosity and altruism which, as everyone knows, are the two best traits of human nature and to be found in much more hardened criminals than this one, a simple car-thief without any hope of advancing in his profession, exploited by the real owners of this enterprise, for it is they who take advantage of the needs of the poor..\"\n",
    "result2 = count_pos(text4)\n",
    "print(\"Counts for Test Case 4:\")\n",
    "print(result2)"
   ]
  },
  {
   "cell_type": "code",
   "execution_count": null,
   "id": "9528e1c7",
   "metadata": {},
   "outputs": [],
   "source": []
  }
 ],
 "metadata": {
  "kernelspec": {
   "display_name": "Python 3 (ipykernel)",
   "language": "python",
   "name": "python3"
  },
  "language_info": {
   "codemirror_mode": {
    "name": "ipython",
    "version": 3
   },
   "file_extension": ".py",
   "mimetype": "text/x-python",
   "name": "python",
   "nbconvert_exporter": "python",
   "pygments_lexer": "ipython3",
   "version": "3.9.13"
  }
 },
 "nbformat": 4,
 "nbformat_minor": 5
}
