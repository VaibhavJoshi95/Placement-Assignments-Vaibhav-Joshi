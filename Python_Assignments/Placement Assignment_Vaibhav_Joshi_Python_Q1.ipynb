{
 "cells": [
  {
   "cell_type": "markdown",
   "id": "e1a11d82",
   "metadata": {},
   "source": [
    "Question1:-\n",
    "\n",
    "Write a program that takes a string as input, and counts the frequency of each word in the string, there might\n",
    "be repeated characters in the string. Your task is to find the highest frequency and returns the length of the\n",
    "highest-frequency word.\n",
    "\n",
    "Note - You have to write at least 2 additional test cases in which your program will run successfully and provide\n",
    "an explanation for the same.\n",
    "\n",
    "Example input - string = “write write write all the number from from from 1 to 100”\n",
    "\n",
    "Example output - 5\n",
    "\n",
    "Explanation - From the given string we can note that the most frequent words are “write” and “from” and\n",
    "the maximum value of both the values is “write” and its corresponding length is 5\n"
   ]
  },
  {
   "cell_type": "code",
   "execution_count": 1,
   "id": "5669a353",
   "metadata": {},
   "outputs": [],
   "source": [
    "def find_highest_frequency_word_length(string):\n",
    "    # Split the string into words\n",
    "    words = string.split()\n",
    "\n",
    "    # Count the frequency of each word\n",
    "    word_frequency = {}\n",
    "    for word in words:\n",
    "        if word in word_frequency:\n",
    "            word_frequency[word] += 1\n",
    "        else:\n",
    "            word_frequency[word] = 1\n",
    "\n",
    "    # Find the maximum frequency\n",
    "    max_frequency = max(word_frequency.values())\n",
    "\n",
    "    # Find the length of the highest-frequency word\n",
    "    highest_frequency_word = max(word_frequency, key=word_frequency.get)\n",
    "    highest_frequency_word_length = len(highest_frequency_word)\n",
    "\n",
    "    return highest_frequency_word_length"
   ]
  },
  {
   "cell_type": "code",
   "execution_count": 2,
   "id": "faaee233",
   "metadata": {},
   "outputs": [
    {
     "name": "stdout",
     "output_type": "stream",
     "text": [
      "5\n"
     ]
    }
   ],
   "source": [
    "string = \"write write write all the number from from from 1 to 100\"\n",
    "print(find_highest_frequency_word_length(string))"
   ]
  },
  {
   "cell_type": "markdown",
   "id": "e4164a05",
   "metadata": {},
   "source": [
    "-> Explanation - From the given string we can note that the most frequent words are “write” and “from” and\n",
    "the maximum value of both the values is “write” and its corresponding length is 5\n"
   ]
  },
  {
   "cell_type": "code",
   "execution_count": 3,
   "id": "aba4570a",
   "metadata": {},
   "outputs": [
    {
     "name": "stdout",
     "output_type": "stream",
     "text": [
      "3\n"
     ]
    }
   ],
   "source": [
    "string = \"the quick brown fox jumps over the lazy dog\"\n",
    "print(find_highest_frequency_word_length(string))"
   ]
  },
  {
   "cell_type": "markdown",
   "id": "d75d6fff",
   "metadata": {},
   "source": [
    "Explanation -In this case, the string consists of all unique words, so the frequency of each word is 1. \n",
    "The highest-frequency word is \"the\" and its length is 3."
   ]
  },
  {
   "cell_type": "code",
   "execution_count": 5,
   "id": "80a982a5",
   "metadata": {},
   "outputs": [
    {
     "name": "stdout",
     "output_type": "stream",
     "text": [
      "5\n"
     ]
    }
   ],
   "source": [
    "string = \"apple banana apple cherry cherry\"\n",
    "print(find_highest_frequency_word_length(string))"
   ]
  },
  {
   "cell_type": "markdown",
   "id": "f32292da",
   "metadata": {},
   "source": [
    "Explanation -In this case, the string contains multiple words with the same frequency. The words \"apple\" and \"cherry\" both appear twice, but \"cherry\" has a longer length of 6 compared to \"apple\" with a length of 5. Therefore, the length of the highest-frequency word is 6."
   ]
  }
 ],
 "metadata": {
  "kernelspec": {
   "display_name": "Python 3 (ipykernel)",
   "language": "python",
   "name": "python3"
  },
  "language_info": {
   "codemirror_mode": {
    "name": "ipython",
    "version": 3
   },
   "file_extension": ".py",
   "mimetype": "text/x-python",
   "name": "python",
   "nbconvert_exporter": "python",
   "pygments_lexer": "ipython3",
   "version": "3.9.13"
  }
 },
 "nbformat": 4,
 "nbformat_minor": 5
}
