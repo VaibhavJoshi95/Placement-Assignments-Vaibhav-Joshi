{
 "cells": [
  {
   "cell_type": "markdown",
   "id": "51423c09",
   "metadata": {},
   "source": [
    "Question 4 -\n",
    "\n",
    "Write a program to download the data from the link given below and then read the data and convert the into\n",
    "the proper structure and return it as a CSV file.\n",
    "\n",
    "Link - https://data.nasa.gov/resource/y77d-th95.json\n",
    "\n",
    "Note - Write code comments wherever needed for code understanding.\n",
    "\n",
    "Excepted Output Data Attributes\n",
    "● Name of Earth Meteorite - string id - ID of Earth\n",
    "● Meteorite - int nametype - string recclass - string\n",
    "● mass - Mass of Earth Meteorite - float year - Year at which Earth\n",
    "● Meteorite was hit - datetime format reclat - float recclong - float\n",
    "● point coordinates - list of int"
   ]
  },
  {
   "cell_type": "code",
   "execution_count": 15,
   "id": "f83a6be6",
   "metadata": {},
   "outputs": [],
   "source": [
    "import requests\n",
    "import csv"
   ]
  },
  {
   "cell_type": "code",
   "execution_count": 16,
   "id": "4d2c8b8c",
   "metadata": {},
   "outputs": [],
   "source": [
    "# Download the JSON data from the provided link\n",
    "url = \"https://data.nasa.gov/resource/y77d-th95.json\"\n",
    "try:\n",
    "    response = requests.get(url)\n",
    "    response.raise_for_status()  # Raise an exception if the request was unsuccessful\n",
    "    data = response.json()\n",
    "except requests.exceptions.RequestException as e:\n",
    "    print(\"Error occurred while downloading the data:\", e)\n",
    "    exit(1)"
   ]
  },
  {
   "cell_type": "code",
   "execution_count": 17,
   "id": "ac99ac7f",
   "metadata": {},
   "outputs": [],
   "source": [
    "# Extract relevant attributes from the data\n",
    "formatted_data = []\n",
    "for meteorite in data:\n",
    "    formatted_meteorite = {\n",
    "        \"Name of Earth Meteorite\": meteorite.get(\"name\", \"\"),\n",
    "        \"id\": meteorite.get(\"id\", \"\"),\n",
    "        \"nametype\": meteorite.get(\"nametype\", \"\"),\n",
    "        \"recclass\": meteorite.get(\"recclass\", \"\"),\n",
    "        \"mass\": float(meteorite.get(\"mass\", 0)),\n",
    "        \"year\": meteorite.get(\"year\", \"\"),\n",
    "        \"reclat\": float(meteorite.get(\"reclat\", 0.0)),\n",
    "        \"reclong\": float(meteorite.get(\"reclong\", 0.0)),\n",
    "        \"point coordinates\": meteorite.get(\"geolocation\", {}).get(\"coordinates\", []),\n",
    "    }\n",
    "    formatted_data.append(formatted_meteorite)"
   ]
  },
  {
   "cell_type": "code",
   "execution_count": 18,
   "id": "7e22cceb",
   "metadata": {},
   "outputs": [
    {
     "name": "stdout",
     "output_type": "stream",
     "text": [
      "Data exported to meteorite_data.csv successfully.\n"
     ]
    }
   ],
   "source": [
    "# Define the CSV file path\n",
    "csv_file = \"meteorite_data.csv\"\n",
    "\n",
    "# Write the data to the CSV file\n",
    "try:\n",
    "    with open(csv_file, mode=\"w\", newline=\"\", encoding=\"utf-8\") as file:\n",
    "        writer = csv.DictWriter(file, fieldnames=formatted_data[0].keys())\n",
    "        writer.writeheader()\n",
    "        writer.writerows(formatted_data)\n",
    "    print(f\"Data exported to {csv_file} successfully.\")\n",
    "except IOError as e:\n",
    "    print(\"Error occurred while writing the data to the CSV file:\", e)"
   ]
  },
  {
   "cell_type": "code",
   "execution_count": null,
   "id": "81669c1d",
   "metadata": {},
   "outputs": [],
   "source": []
  }
 ],
 "metadata": {
  "kernelspec": {
   "display_name": "Python 3 (ipykernel)",
   "language": "python",
   "name": "python3"
  },
  "language_info": {
   "codemirror_mode": {
    "name": "ipython",
    "version": 3
   },
   "file_extension": ".py",
   "mimetype": "text/x-python",
   "name": "python",
   "nbconvert_exporter": "python",
   "pygments_lexer": "ipython3",
   "version": "3.9.13"
  }
 },
 "nbformat": 4,
 "nbformat_minor": 5
}
