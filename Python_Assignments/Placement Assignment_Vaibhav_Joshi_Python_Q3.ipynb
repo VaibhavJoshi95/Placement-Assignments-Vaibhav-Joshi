{
 "cells": [
  {
   "cell_type": "markdown",
   "id": "97e624aa",
   "metadata": {},
   "source": [
    "Question 3: -\n",
    "\n",
    "Write a program, which would download the data from the provided link, and then read the data and convert\n",
    "that into properly structured data and return it in Excel format.\n",
    "\n",
    "Note - Write comments wherever necessary explaining the code written.\n",
    "\n",
    "Link - https://raw.githubusercontent.com/Biuni/PokemonGO-Pokedex/master/pokedex.json\n",
    "\n",
    "Data Attributes - id: Identification Number - int num: Number of the\n",
    "● Pokémon in the official Pokédex - int name: Pokémon name -\n",
    "● string img: URL to an image of this Pokémon - string type:\n",
    "● Pokémon type -string height: Pokémon height - float\n",
    "● weight: Pokémon weight - float candy: type of candy used to evolve Pokémon or\n",
    "given\n",
    "● when transferred - string candy_count: the amount of candies required to evolve\n",
    "- int\n",
    "● egg: Number of kilometers to travel to hatch the egg - float spawn_chance:\n",
    "● Percentage of spawn chance (NEW) - float avg_spawns: Number of this\n",
    "pokemon on 10.000 spawns (NEW) - int\n",
    "● spawn_time: Spawns most active at the time on this field. Spawn times are the same for all\n",
    "time zones and are expressed in local time. (NEW) - “minutes: seconds” multipliers:\n",
    "Multiplier of Combat Power (CP) for calculating the CP after evolution See below - list of int\n",
    "weakness: Types of\n",
    "● Pokémon this Pokémon is weak to - list of strings next_evolution: Number and Name of\n",
    "successive evolutions of Pokémon - list of dict prev_evolution: Number and Name of previous\n",
    "evolutions of Pokémon - - list of dict"
   ]
  },
  {
   "cell_type": "code",
   "execution_count": 1,
   "id": "3cfbf4c4",
   "metadata": {},
   "outputs": [],
   "source": [
    "import pandas as pd\n",
    "import requests"
   ]
  },
  {
   "cell_type": "code",
   "execution_count": 12,
   "id": "4b599da0",
   "metadata": {},
   "outputs": [],
   "source": [
    "url = \"https://raw.githubusercontent.com/Biuni/PokemonGO-Pokedex/master/pokedex.json\"\n",
    "try:\n",
    "    response = requests.get(url, timeout=120)\n",
    "    response.raise_for_status()  # Raise an exception if the request was unsuccessful\n",
    "    data = response.json()\n",
    "except requests.exceptions.RequestException as e:\n",
    "    print(\"Error occurred while downloading the data:\", e)\n",
    "    exit(1)"
   ]
  },
  {
   "cell_type": "code",
   "execution_count": 13,
   "id": "4839ed4e",
   "metadata": {},
   "outputs": [
    {
     "name": "stdout",
     "output_type": "stream",
     "text": [
      "Data exported to pokemon_data.xlsx successfully.\n"
     ]
    }
   ],
   "source": [
    "# Extract relevant attributes from the data\n",
    "formatted_data = []\n",
    "for pokemon in data[\"pokemon\"]:\n",
    "    formatted_pokemon = {\n",
    "        \"id\": pokemon[\"id\"],\n",
    "        \"num\": pokemon[\"num\"],\n",
    "        \"name\": pokemon[\"name\"],\n",
    "        \"img\": pokemon[\"img\"],\n",
    "        \"type\": \", \".join(pokemon[\"type\"]),\n",
    "        \"height\": pokemon[\"height\"],\n",
    "        \"weight\": pokemon[\"weight\"],\n",
    "        \"candy\": pokemon.get(\"candy\", \"\"),\n",
    "        \"candy_count\": pokemon.get(\"candy_count\", 0),\n",
    "        \"egg\": pokemon.get(\"egg\", \"\"),\n",
    "        \"spawn_chance\": pokemon.get(\"spawn_chance\", 0.0),\n",
    "        \"avg_spawns\": pokemon.get(\"avg_spawns\", 0),\n",
    "        \"spawn_time\": pokemon.get(\"spawn_time\", \"\"),\n",
    "        \"weakness\": \", \".join(pokemon.get(\"weaknesses\", [])),\n",
    "        \"next_evolution\": \", \".join(\n",
    "            f\"{evolution.get('num', '')} - {evolution.get('name', '')}\"\n",
    "            for evolution in pokemon.get(\"next_evolution\", [])\n",
    "        ),\n",
    "        \"prev_evolution\": \", \".join(\n",
    "            f\"{evolution.get('num', '')} - {evolution.get('name', '')}\"\n",
    "            for evolution in pokemon.get(\"prev_evolution\", [])\n",
    "        ),\n",
    "    }\n",
    "    formatted_data.append(formatted_pokemon)\n",
    "\n",
    "# Convert the data to a DataFrame\n",
    "df = pd.DataFrame(formatted_data)\n",
    "\n",
    "# Export the data to Excel\n",
    "excel_file = \"pokemon_data.xlsx\"\n",
    "df.to_excel(excel_file, index=False)\n",
    "print(f\"Data exported to {excel_file} successfully.\")"
   ]
  },
  {
   "cell_type": "code",
   "execution_count": null,
   "id": "33153c2e",
   "metadata": {},
   "outputs": [],
   "source": []
  }
 ],
 "metadata": {
  "kernelspec": {
   "display_name": "Python 3 (ipykernel)",
   "language": "python",
   "name": "python3"
  },
  "language_info": {
   "codemirror_mode": {
    "name": "ipython",
    "version": 3
   },
   "file_extension": ".py",
   "mimetype": "text/x-python",
   "name": "python",
   "nbconvert_exporter": "python",
   "pygments_lexer": "ipython3",
   "version": "3.9.13"
  }
 },
 "nbformat": 4,
 "nbformat_minor": 5
}
