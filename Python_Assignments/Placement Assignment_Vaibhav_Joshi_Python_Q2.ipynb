{
 "cells": [
  {
   "cell_type": "markdown",
   "id": "c96167a9",
   "metadata": {},
   "source": [
    "Question 2: -\n",
    "    \n",
    "Consider a string to be valid if all characters of the string appear the same number of times. It is also valid if\n",
    "he can remove just one character at the index in the string, and the remaining characters will occur the same\n",
    "number of times. Given a string, determine if it is valid. If so, return YES , otherwise return NO .\n",
    "\n",
    "Note - You have to write at least 2 additional test cases in which your program will run successfully and provide\n",
    "an explanation for the same.\n",
    "\n",
    "Example input 1 - s = “abc”. This is a valid string because frequencies are { “a”: 1, “b”: 1, “c”: 1 }\n",
    "Example output 1- YES\n",
    "\n",
    "Example input 2 - s “abcc”. This string is not valid as we can remove only 1 occurrence of “c”. That leaves\n",
    "character frequencies of { “a”: 1, “b”: 1 , “c”: 2 }\n",
    "Example output 2 - NO\n"
   ]
  },
  {
   "cell_type": "code",
   "execution_count": 87,
   "id": "3cc9b3d5",
   "metadata": {},
   "outputs": [],
   "source": [
    "def is_valid_string(s):\n",
    "    char_count = {}\n",
    "    for char in s:\n",
    "        char_count[char] = char_count.get(char, 0) + 1\n",
    "\n",
    "    counts = list(char_count.values())\n",
    "    unique_counts = set(counts)\n",
    "\n",
    "    if len(unique_counts) == 1:\n",
    "        return \"YES\"  # All characters appear the same number of times\n",
    "\n",
    "    if len(unique_counts) > 2:\n",
    "        return \"NO\"  # More than one character needs to be removed\n",
    "\n",
    "    min_count = min(unique_counts)\n",
    "    max_count = max(unique_counts)\n",
    "\n",
    "    if counts.count(min_count) == 1 and min_count == 1:\n",
    "        return \"YES\"  # Only one character needs to be removed\n",
    "\n",
    "    if counts.count(max_count) == 1 and max_count - min_count == 1:\n",
    "        return \"YES\"  # Only one character needs to be removed\n",
    "\n",
    "    return \"NO\"  # More than one character needs to be removed\n"
   ]
  },
  {
   "cell_type": "code",
   "execution_count": 88,
   "id": "fdbe53fc",
   "metadata": {},
   "outputs": [
    {
     "name": "stdout",
     "output_type": "stream",
     "text": [
      "YES\n"
     ]
    }
   ],
   "source": [
    "s = \"abc\"\n",
    "print(is_valid_string(s))"
   ]
  },
  {
   "cell_type": "markdown",
   "id": "56d0d5d0",
   "metadata": {},
   "source": [
    "Explanation:-In this case, all characters ('a', 'b', 'c') appear the same number of times, i.e., once. \n",
    "    Therefore, the string is valid. If we remove any one character, the remaining characters will still occur the same number of times (once each). \n",
    "    Thus, the function will return \"YES\"."
   ]
  },
  {
   "cell_type": "code",
   "execution_count": 94,
   "id": "afe90cc0",
   "metadata": {},
   "outputs": [
    {
     "name": "stdout",
     "output_type": "stream",
     "text": [
      "YES\n"
     ]
    }
   ],
   "source": [
    "s = \"abcc\"\n",
    "print(is_valid_string(s))"
   ]
  },
  {
   "cell_type": "markdown",
   "id": "fea8f357",
   "metadata": {},
   "source": [
    "Explanation:- The characters 'a' and 'b' appear once, while 'c' appears twice. \n",
    "    According to the given conditions, we can remove one character at a specific index. If we remove one 'c', we will have 'abc'. The remaining characters ('a','b' and 'c') occur the same number of times (once each), making the string valid. \n",
    "    Hence, the function will return \"YES\"."
   ]
  },
  {
   "cell_type": "code",
   "execution_count": 92,
   "id": "917c820e",
   "metadata": {},
   "outputs": [
    {
     "name": "stdout",
     "output_type": "stream",
     "text": [
      "YES\n"
     ]
    }
   ],
   "source": [
    "s = \"aabbccdd\"\n",
    "print(is_valid_string(s))"
   ]
  },
  {
   "cell_type": "markdown",
   "id": "ac115ae7",
   "metadata": {},
   "source": [
    "Explanation:-In this case, all characters ('a', 'b', 'c', 'd') appear the same number of times, i.e., twice. \n",
    "    Therefore, the string is valid. If we remove any one character, the remaining characters will still occur the same number of times (once each). \n",
    "    Thus, the function will return \"YES\"."
   ]
  },
  {
   "cell_type": "code",
   "execution_count": 93,
   "id": "4c330dac",
   "metadata": {},
   "outputs": [
    {
     "name": "stdout",
     "output_type": "stream",
     "text": [
      "YES\n"
     ]
    }
   ],
   "source": [
    "s =\"aabbc\"\n",
    "print(is_valid_string(s))"
   ]
  },
  {
   "cell_type": "markdown",
   "id": "505ac490",
   "metadata": {},
   "source": [
    "Explanation:- The characters 'a' and 'b' appear twice, while 'c' appears only once. \n",
    "    According to the given conditions, we can remove one character at a specific index. If we remove 'c', we will have 'aabb'. The remaining characters ('a' and 'b') occur the same number of times (twice each), making the string valid. \n",
    "    Hence, the function will return \"YES\"."
   ]
  },
  {
   "cell_type": "code",
   "execution_count": null,
   "id": "c0b15259",
   "metadata": {},
   "outputs": [],
   "source": []
  }
 ],
 "metadata": {
  "kernelspec": {
   "display_name": "Python 3 (ipykernel)",
   "language": "python",
   "name": "python3"
  },
  "language_info": {
   "codemirror_mode": {
    "name": "ipython",
    "version": 3
   },
   "file_extension": ".py",
   "mimetype": "text/x-python",
   "name": "python",
   "nbconvert_exporter": "python",
   "pygments_lexer": "ipython3",
   "version": "3.9.13"
  }
 },
 "nbformat": 4,
 "nbformat_minor": 5
}
