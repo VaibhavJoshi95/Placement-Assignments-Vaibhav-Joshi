{
 "cells": [
  {
   "cell_type": "code",
   "execution_count": 5,
   "id": "4e61fe2b",
   "metadata": {},
   "outputs": [],
   "source": [
    "import pandas as pd\n",
    "from scipy.stats import wilcoxon"
   ]
  },
  {
   "cell_type": "code",
   "execution_count": 6,
   "id": "95997008",
   "metadata": {},
   "outputs": [],
   "source": [
    "# Read the data from the CSV file\n",
    "data = pd.read_csv('https://raw.githubusercontent.com/VaibhavJoshi95/Placement_Assignment_Vaibhav_Joshi/main/Therapy.csv')\n"
   ]
  },
  {
   "cell_type": "code",
   "execution_count": 7,
   "id": "4df2efad",
   "metadata": {},
   "outputs": [],
   "source": [
    "# Extract the 'Before therapy' and 'After therapy' columns\n",
    "before_therapy = data['Before therapy']\n",
    "after_therapy = data['After therapy']\n"
   ]
  },
  {
   "cell_type": "code",
   "execution_count": 8,
   "id": "26acb34e",
   "metadata": {},
   "outputs": [],
   "source": [
    "# Perform the Wilcoxon signed-rank test\n",
    "statistic, p_value = wilcoxon(before_therapy, after_therapy)\n"
   ]
  },
  {
   "cell_type": "code",
   "execution_count": 9,
   "id": "51057b68",
   "metadata": {},
   "outputs": [
    {
     "name": "stdout",
     "output_type": "stream",
     "text": [
      "Wilcoxon signed-rank test:\n",
      "Statistic: 0.0\n",
      "p-value: 0.001953125\n"
     ]
    }
   ],
   "source": [
    "# Print the test results\n",
    "print(\"Wilcoxon signed-rank test:\")\n",
    "print(\"Statistic:\", statistic)\n",
    "print(\"p-value:\", p_value)"
   ]
  },
  {
   "cell_type": "code",
   "execution_count": null,
   "id": "0d87c5c5",
   "metadata": {},
   "outputs": [],
   "source": []
  }
 ],
 "metadata": {
  "kernelspec": {
   "display_name": "Python 3 (ipykernel)",
   "language": "python",
   "name": "python3"
  },
  "language_info": {
   "codemirror_mode": {
    "name": "ipython",
    "version": 3
   },
   "file_extension": ".py",
   "mimetype": "text/x-python",
   "name": "python",
   "nbconvert_exporter": "python",
   "pygments_lexer": "ipython3",
   "version": "3.9.13"
  }
 },
 "nbformat": 4,
 "nbformat_minor": 5
}
