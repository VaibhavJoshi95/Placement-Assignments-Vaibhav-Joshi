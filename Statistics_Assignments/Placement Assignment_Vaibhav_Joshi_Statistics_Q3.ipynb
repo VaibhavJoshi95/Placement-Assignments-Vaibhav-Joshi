{
 "cells": [
  {
   "cell_type": "code",
   "execution_count": 69,
   "id": "1dc5a2ab",
   "metadata": {},
   "outputs": [],
   "source": [
    "import pandas as pd\n",
    "import numpy as np\n",
    "import matplotlib.pyplot as plt\n",
    "from scipy.stats import t, sem"
   ]
  },
  {
   "cell_type": "code",
   "execution_count": 70,
   "id": "b41f3727",
   "metadata": {},
   "outputs": [],
   "source": [
    "# Load the data from the CSV file\n",
    "#url = \"https://drive.google.com/file/d/1mCjtYHiX--mMUjicuaP2gH3k-SnFxt8Y/view\"\n",
    "data = pd.read_csv(\"data.csv\")"
   ]
  },
  {
   "cell_type": "code",
   "execution_count": 71,
   "id": "2fa02281",
   "metadata": {},
   "outputs": [],
   "source": [
    "# Remove leading spaces from column names\n",
    "data.columns = data.columns.str.strip()\n"
   ]
  },
  {
   "cell_type": "code",
   "execution_count": 72,
   "id": "2c730a2a",
   "metadata": {},
   "outputs": [
    {
     "name": "stdout",
     "output_type": "stream",
     "text": [
      "Index(['Patient ID', 'Blood Pressure Before (mmHg)',\n",
      "       'Blood Pressure After (mmHg)'],\n",
      "      dtype='object')\n"
     ]
    }
   ],
   "source": [
    "print(data.columns)"
   ]
  },
  {
   "cell_type": "code",
   "execution_count": 77,
   "id": "38b60ff2",
   "metadata": {},
   "outputs": [
    {
     "name": "stdout",
     "output_type": "stream",
     "text": [
      "Dispersion in 'Blood Pressure Before': 43.10189999999998\n",
      "Dispersion in 'Blood Pressure After': 46.97040000000002\n"
     ]
    }
   ],
   "source": [
    "#a. Measure the dispersion in both and interpret the results.\n",
    "dispersion_before = np.var(data['Blood Pressure Before (mmHg)'])\n",
    "dispersion_after = np.var(data['Blood Pressure After (mmHg)'])\n",
    "print(\"Dispersion in 'Blood Pressure Before':\", dispersion_before)\n",
    "print(\"Dispersion in 'Blood Pressure After':\", dispersion_after)\n"
   ]
  },
  {
   "cell_type": "code",
   "execution_count": 78,
   "id": "9e7616c3",
   "metadata": {},
   "outputs": [
    {
     "name": "stdout",
     "output_type": "stream",
     "text": [
      "Mean 'Blood Pressure Before': 133.91\n",
      "Mean 'Blood Pressure After': 128.36\n",
      "Confidence Interval: (132.60075849172767, 135.21924150827232)\n"
     ]
    }
   ],
   "source": [
    "#b. Calculate mean and 5% confidence interval and plot it in a graph\n",
    "\n",
    "mean_before = np.mean(data['Blood Pressure Before (mmHg)'])\n",
    "mean_after = np.mean(data['Blood Pressure After (mmHg)'])\n",
    "confidence_interval = t.interval(0.95, len(data)-1, loc=mean_before, scale=sem(data['Blood Pressure Before (mmHg)']))\n",
    "\n",
    "print(\"Mean 'Blood Pressure Before':\", mean_before)\n",
    "print(\"Mean 'Blood Pressure After':\", mean_after)\n",
    "print(\"Confidence Interval:\", confidence_interval)"
   ]
  },
  {
   "cell_type": "code",
   "execution_count": 76,
   "id": "39570d2c",
   "metadata": {},
   "outputs": [
    {
     "data": {
      "image/png": "[encoded data removed]",
      "text/plain": [
       "<Figure size 640x480 with 1 Axes>"
      ]
     },
     "metadata": {},
     "output_type": "display_data"
    }
   ],
   "source": [
    "# Plot the means and confidence interval\n",
    "plt.bar(['Before', 'After'], [mean_before, mean_after], yerr=confidence_interval[1]-mean_before)\n",
    "plt.xlabel('Time')\n",
    "plt.ylabel('Mean Blood Pressure (mmHg)')\n",
    "plt.title('Mean Blood Pressure Before and After')\n",
    "plt.show()"
   ]
  },
  {
   "cell_type": "code",
   "execution_count": 81,
   "id": "3ba97ae5",
   "metadata": {},
   "outputs": [
    {
     "name": "stdout",
     "output_type": "stream",
     "text": [
      "Mean Absolute Deviation (MAD) in 'Blood Pressure Before': 5.7118\n",
      "Mean Absolute Deviation (MAD) in 'Blood Pressure After': 5.9\n",
      "Standard Deviation (SD) in 'Blood Pressure Before': 6.5652037287505385\n",
      "Standard Deviation (SD) in 'Blood Pressure After': 6.853495458523338\n"
     ]
    }
   ],
   "source": [
    "#c. Calculate Mean Absolute Deviation (MAD) and Standard Deviation (SD)\n",
    "mad_before = np.mean(np.abs(data['Blood Pressure Before (mmHg)'] - mean_before))\n",
    "mad_after = np.mean(np.abs(data['Blood Pressure After (mmHg)'] - mean_after))\n",
    "std_before = np.std(data['Blood Pressure Before (mmHg)'])\n",
    "std_after = np.std(data['Blood Pressure After (mmHg)'])\n",
    "print(\"Mean Absolute Deviation (MAD) in 'Blood Pressure Before':\", mad_before)\n",
    "print(\"Mean Absolute Deviation (MAD) in 'Blood Pressure After':\", mad_after)\n",
    "print(\"Standard Deviation (SD) in 'Blood Pressure Before':\", std_before)\n",
    "print(\"Standard Deviation (SD) in 'Blood Pressure After':\", std_after)"
   ]
  },
  {
   "cell_type": "code",
   "execution_count": 83,
   "id": "efc499d8",
   "metadata": {},
   "outputs": [
    {
     "name": "stdout",
     "output_type": "stream",
     "text": [
      "Correlation Coefficient: 0.9779485966556016\n"
     ]
    }
   ],
   "source": [
    "#d. Calculate the correlation coefficient\n",
    "correlation_coefficient = np.corrcoef(data['Blood Pressure Before (mmHg)'], data['Blood Pressure After (mmHg)'])[0, 1]\n",
    "print(\"Correlation Coefficient:\", correlation_coefficient)"
   ]
  },
  {
   "cell_type": "code",
   "execution_count": 84,
   "id": "def4c6cb",
   "metadata": {},
   "outputs": [
    {
     "name": "stdout",
     "output_type": "stream",
     "text": [
      "T-statistic: 46.35573256849114\n",
      "P-value: 0.0\n",
      "Is the correlation coefficient significant at 1% level? True\n"
     ]
    }
   ],
   "source": [
    "# Check the significance of correlation coefficient at 1% level of significance\n",
    "n = len(data)\n",
    "t_critical = t.ppf(0.995, df=n-2)  # 1% significance level, two-tailed test\n",
    "standard_error = np.sqrt((1 - correlation_coefficient**2) / (n - 2))\n",
    "t_statistic = correlation_coefficient / standard_error\n",
    "p_value = 2 * (1 - t.cdf(np.abs(t_statistic), df=n-2))\n",
    "is_significant = p_value < 0.01\n",
    "\n",
    "print(\"T-statistic:\", t_statistic)\n",
    "print(\"P-value:\", p_value)\n",
    "print(\"Is the correlation coefficient significant at 1% level?\", is_significant)"
   ]
  },
  {
   "cell_type": "code",
   "execution_count": null,
   "id": "30519370",
   "metadata": {},
   "outputs": [],
   "source": []
  }
 ],
 "metadata": {
  "kernelspec": {
   "display_name": "Python 3 (ipykernel)",
   "language": "python",
   "name": "python3"
  },
  "language_info": {
   "codemirror_mode": {
    "name": "ipython",
    "version": 3
   },
   "file_extension": ".py",
   "mimetype": "text/x-python",
   "name": "python",
   "nbconvert_exporter": "python",
   "pygments_lexer": "ipython3",
   "version": "3.9.13"
  }
 },
 "nbformat": 4,
 "nbformat_minor": 5
}
