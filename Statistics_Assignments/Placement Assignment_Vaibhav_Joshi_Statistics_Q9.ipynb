{
 "cells": [
  {
   "cell_type": "code",
   "execution_count": 1,
   "id": "1132dd98",
   "metadata": {},
   "outputs": [],
   "source": [
    "import pandas as pd\n",
    "from scipy.stats import f_oneway"
   ]
  },
  {
   "cell_type": "code",
   "execution_count": 2,
   "id": "51a52a30",
   "metadata": {},
   "outputs": [],
   "source": [
    "# Read the data from the CSV file\n",
    "data = pd.read_csv('https://raw.githubusercontent.com/VaibhavJoshi95/Placement_Assignment_Vaibhav_Joshi/main/Exam_Marks.csv')"
   ]
  },
  {
   "cell_type": "code",
   "execution_count": 10,
   "id": "a6c6a448",
   "metadata": {},
   "outputs": [],
   "source": [
    "# Get the scores for each student\n",
    "scores = [data[column] for column in data.columns[1:]]\n"
   ]
  },
  {
   "cell_type": "code",
   "execution_count": 11,
   "id": "46f492ce",
   "metadata": {},
   "outputs": [],
   "source": [
    "# Perform one-way ANOVA test\n",
    "statistic, p_value = f_oneway(*scores)"
   ]
  },
  {
   "cell_type": "code",
   "execution_count": 12,
   "id": "3787b514",
   "metadata": {},
   "outputs": [
    {
     "name": "stdout",
     "output_type": "stream",
     "text": [
      "One-way ANOVA test:\n",
      "Statistic: 0.3236947791164659\n",
      "p-value: 0.7295954253321559\n"
     ]
    }
   ],
   "source": [
    "# Print the test results\n",
    "print(\"One-way ANOVA test:\")\n",
    "print(\"Statistic:\", statistic)\n",
    "print(\"p-value:\", p_value)"
   ]
  },
  {
   "cell_type": "code",
   "execution_count": 13,
   "id": "cc04ef1a",
   "metadata": {},
   "outputs": [
    {
     "name": "stdout",
     "output_type": "stream",
     "text": [
      "Student with the highest score: Jeevan\n"
     ]
    }
   ],
   "source": [
    "# Find the student with the highest score\n",
    "highest_score = data[data.columns[1:]].max().max()\n",
    "student_with_highest_score = data.loc[data[data.columns[1:]].max(axis=1) == highest_score, 'Name'].values[0]\n",
    "print(\"Student with the highest score:\", student_with_highest_score)"
   ]
  },
  {
   "cell_type": "code",
   "execution_count": null,
   "id": "68ff213f",
   "metadata": {},
   "outputs": [],
   "source": []
  }
 ],
 "metadata": {
  "kernelspec": {
   "display_name": "Python 3 (ipykernel)",
   "language": "python",
   "name": "python3"
  },
  "language_info": {
   "codemirror_mode": {
    "name": "ipython",
    "version": 3
   },
   "file_extension": ".py",
   "mimetype": "text/x-python",
   "name": "python",
   "nbconvert_exporter": "python",
   "pygments_lexer": "ipython3",
   "version": "3.9.13"
  }
 },
 "nbformat": 4,
 "nbformat_minor": 5
}
