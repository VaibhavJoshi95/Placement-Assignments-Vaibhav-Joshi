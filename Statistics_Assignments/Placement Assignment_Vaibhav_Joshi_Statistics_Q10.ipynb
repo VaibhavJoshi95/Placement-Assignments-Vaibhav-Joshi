{
 "cells": [
  {
   "cell_type": "code",
   "execution_count": 1,
   "id": "b7fe7807",
   "metadata": {},
   "outputs": [],
   "source": [
    "import scipy.stats as stats"
   ]
  },
  {
   "cell_type": "code",
   "execution_count": 2,
   "id": "327a07de",
   "metadata": {},
   "outputs": [],
   "source": [
    "# Probability of a bulb being defective\n",
    "p = 0.05\n",
    "\n",
    "# Total number of bulbs in the batch\n",
    "n = 500"
   ]
  },
  {
   "cell_type": "code",
   "execution_count": 3,
   "id": "df80078e",
   "metadata": {},
   "outputs": [],
   "source": [
    "# a. Probability of exactly 20 bulbs being defective\n",
    "prob_20_defective = stats.binom.pmf(20, n, p)"
   ]
  },
  {
   "cell_type": "code",
   "execution_count": 4,
   "id": "a6b8ab86",
   "metadata": {},
   "outputs": [],
   "source": [
    "# b. Probability of at least 10 bulbs being defective\n",
    "prob_at_least_10_defective = 1 - stats.binom.cdf(9, n, p)"
   ]
  },
  {
   "cell_type": "code",
   "execution_count": 5,
   "id": "6b9a2d14",
   "metadata": {},
   "outputs": [],
   "source": [
    "# c. Probability of at most 15 bulbs being defective\n",
    "prob_at_most_15_defective = stats.binom.cdf(15, n, p)"
   ]
  },
  {
   "cell_type": "code",
   "execution_count": 6,
   "id": "6808c4b2",
   "metadata": {},
   "outputs": [],
   "source": [
    "# d. Expected number of defective bulbs\n",
    "expected_defective = n * p"
   ]
  },
  {
   "cell_type": "code",
   "execution_count": 7,
   "id": "e65fe346",
   "metadata": {},
   "outputs": [
    {
     "name": "stdout",
     "output_type": "stream",
     "text": [
      "a. Probability of exactly 20 bulbs being defective: 0.051616192536641056\n",
      "b. Probability of at least 10 bulbs being defective: 0.9998316463654902\n",
      "c. Probability of at most 15 bulbs being defective: 0.01985837716300623\n",
      "d. Expected number of defective bulbs: 25.0\n"
     ]
    }
   ],
   "source": [
    "print(\"a. Probability of exactly 20 bulbs being defective:\", prob_20_defective)\n",
    "print(\"b. Probability of at least 10 bulbs being defective:\", prob_at_least_10_defective)\n",
    "print(\"c. Probability of at most 15 bulbs being defective:\", prob_at_most_15_defective)\n",
    "print(\"d. Expected number of defective bulbs:\", expected_defective)"
   ]
  },
  {
   "cell_type": "code",
   "execution_count": null,
   "id": "8ec69943",
   "metadata": {},
   "outputs": [],
   "source": []
  }
 ],
 "metadata": {
  "kernelspec": {
   "display_name": "Python 3 (ipykernel)",
   "language": "python",
   "name": "python3"
  },
  "language_info": {
   "codemirror_mode": {
    "name": "ipython",
    "version": 3
   },
   "file_extension": ".py",
   "mimetype": "text/x-python",
   "name": "python",
   "nbconvert_exporter": "python",
   "pygments_lexer": "ipython3",
   "version": "3.9.13"
  }
 },
 "nbformat": 4,
 "nbformat_minor": 5
}
