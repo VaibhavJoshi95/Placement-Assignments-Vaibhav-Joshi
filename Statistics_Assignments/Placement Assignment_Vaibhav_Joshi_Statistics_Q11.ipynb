{
 "cells": [
  {
   "cell_type": "code",
   "execution_count": 17,
   "id": "9f52ca88",
   "metadata": {},
   "outputs": [],
   "source": [
    "import pandas as pd\n",
    "from scipy.stats import f_oneway\n",
    "from scipy.stats import levene\n"
   ]
  },
  {
   "cell_type": "code",
   "execution_count": 18,
   "id": "ce8c9115",
   "metadata": {},
   "outputs": [
    {
     "name": "stdout",
     "output_type": "stream",
     "text": [
      "   Patient ID   Blood Pressure Before (mmHg)   Blood Pressure After (mmHg)\n",
      "0           1                            130                           120\n",
      "1           2                            142                           135\n",
      "2           3                            120                           118\n",
      "3           4                            135                           127\n",
      "4           5                            148                           140\n"
     ]
    }
   ],
   "source": [
    "# Load the dataset\n",
    "data_url = 'https://raw.githubusercontent.com/VaibhavJoshi95/Placement_Assignment_Vaibhav_Joshi/main/data.csv'\n",
    "data = pd.read_csv(data_url)\n",
    "\n",
    "# Display the first few rows of the dataset\n",
    "print(data.head())"
   ]
  },
  {
   "cell_type": "code",
   "execution_count": 19,
   "id": "a6167acf",
   "metadata": {},
   "outputs": [],
   "source": [
    "# Remove leading spaces from column names\n",
    "data.columns = data.columns.str.strip()"
   ]
  },
  {
   "cell_type": "code",
   "execution_count": 21,
   "id": "02e7268f",
   "metadata": {},
   "outputs": [
    {
     "name": "stdout",
     "output_type": "stream",
     "text": [
      "The distribution of the classes is not the same.\n"
     ]
    }
   ],
   "source": [
    "#a. Checking the distribution of all the classes:\n",
    "\n",
    "# Perform one-way ANOVA\n",
    "result = f_oneway(data['Blood Pressure Before (mmHg)'], data['Blood Pressure After (mmHg)'])\n",
    "\n",
    "# Check if the p-value is significant\n",
    "if result.pvalue < 0.05:\n",
    "    print(\"The distribution of the classes is not the same.\")\n",
    "else:\n",
    "    print(\"The distribution of the classes is the same.\")"
   ]
  },
  {
   "cell_type": "code",
   "execution_count": 22,
   "id": "2d74c71a",
   "metadata": {},
   "outputs": [
    {
     "name": "stdout",
     "output_type": "stream",
     "text": [
      "The variance among the classes is equal.\n"
     ]
    }
   ],
   "source": [
    "#b. Check for the equality of variance:\n",
    "# Perform Levene's test\n",
    "result = levene(data['Blood Pressure Before (mmHg)'], data['Blood Pressure After (mmHg)'])\n",
    "\n",
    "# Check if the p-value is significant\n",
    "if result.pvalue < 0.05:\n",
    "    print(\"The variance among the classes is not equal.\")\n",
    "else:\n",
    "    print(\"The variance among the classes is equal.\")"
   ]
  },
  {
   "cell_type": "code",
   "execution_count": 24,
   "id": "9e8d2ee8",
   "metadata": {},
   "outputs": [
    {
     "name": "stdout",
     "output_type": "stream",
     "text": [
      "The means of the classes are not equal.\n"
     ]
    }
   ],
   "source": [
    "#d. Check the equality of mean between all the classes:\n",
    "# Perform one-way ANOVA\n",
    "result = f_oneway(data['Blood Pressure Before (mmHg)'], data['Blood Pressure After (mmHg)'])\n",
    "\n",
    "# Check if the p-value is significant\n",
    "if result.pvalue < 0.05:\n",
    "    print(\"The means of the classes are not equal.\")\n",
    "else:\n",
    "    print(\"The means of the classes are equal.\")"
   ]
  },
  {
   "cell_type": "code",
   "execution_count": null,
   "id": "dc8aca7d",
   "metadata": {},
   "outputs": [],
   "source": []
  }
 ],
 "metadata": {
  "kernelspec": {
   "display_name": "Python 3 (ipykernel)",
   "language": "python",
   "name": "python3"
  },
  "language_info": {
   "codemirror_mode": {
    "name": "ipython",
    "version": 3
   },
   "file_extension": ".py",
   "mimetype": "text/x-python",
   "name": "python",
   "nbconvert_exporter": "python",
   "pygments_lexer": "ipython3",
   "version": "3.9.13"
  }
 },
 "nbformat": 4,
 "nbformat_minor": 5
}
